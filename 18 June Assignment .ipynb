{
 "cells": [
  {
   "cell_type": "markdown",
   "id": "af119861",
   "metadata": {},
   "source": [
    "1.The \"else\" block in a try-except statement is used to define a block of code that should be executed if no exceptions are raised within the \"try\" block. It provides a way to separate the code that might raise exceptions from the code that should execute only when no exceptions occur. The \"else\" block is optional and follows all the \"except\" blocks in a try-except statement.\n",
    "\n",
    "The primary role of the \"else\" block is to keep the code cleaner and more organized by isolating the exception handling logic from the regular execution logic. It's useful for scenarios where you want to perform some actions only when no exceptions have occurred, allowing you to differentiate between successful execution and exception handling."
   ]
  },
  {
   "cell_type": "code",
   "execution_count": 1,
   "id": "cd02e9bc",
   "metadata": {},
   "outputs": [
    {
     "name": "stdout",
     "output_type": "stream",
     "text": [
      "Enter the numerator: 2\n",
      "Enter the denominator: 2\n",
      "The result of 2 / 2 is 1.0\n"
     ]
    }
   ],
   "source": [
    "try:\n",
    "    numerator = int(input(\"Enter the numerator: \"))\n",
    "    denominator = int(input(\"Enter the denominator: \"))\n",
    "    result = numerator / denominator\n",
    "except ZeroDivisionError:\n",
    "    print(\"Error: Division by zero is not allowed.\")\n",
    "else:\n",
    "    print(f\"The result of {numerator} / {denominator} is {result}\")\n"
   ]
  },
  {
   "cell_type": "markdown",
   "id": "025c6712",
   "metadata": {},
   "source": [
    "2.Yes, a try-except block can be nested inside another try-except block. This is known as nested exception handling. It allows you to handle exceptions at different levels of code, providing more fine-grained control over error handling based on the specific context."
   ]
  },
  {
   "cell_type": "code",
   "execution_count": 2,
   "id": "a1cf76c3",
   "metadata": {},
   "outputs": [
    {
     "name": "stdout",
     "output_type": "stream",
     "text": [
      "Enter the numerator: 24\n",
      "Enter the denominator: 12\n",
      "The result of 24 / 12 is 2.0\n"
     ]
    }
   ],
   "source": [
    "try:\n",
    "    numerator = int(input(\"Enter the numerator: \"))\n",
    "    try:\n",
    "        denominator = int(input(\"Enter the denominator: \"))\n",
    "        result = numerator / denominator\n",
    "    except ZeroDivisionError:\n",
    "        print(\"Inner: Error: Division by zero is not allowed.\")\n",
    "except ValueError:\n",
    "    print(\"Outer: Error: Invalid input. Please enter a valid number.\")\n",
    "else:\n",
    "    print(f\"The result of {numerator} / {denominator} is {result}\")\n"
   ]
  },
  {
   "cell_type": "markdown",
   "id": "cc1b28d0",
   "metadata": {},
   "source": [
    "3.You can create a custom exception class in Python by defining a new class that inherits from the built-in Exception class or any of its subclasses. This allows you to define your own exception types with customized behavior and error messages."
   ]
  },
  {
   "cell_type": "code",
   "execution_count": 3,
   "id": "b8cad552",
   "metadata": {},
   "outputs": [
    {
     "name": "stdout",
     "output_type": "stream",
     "text": [
      "Enter a number: 12\n",
      "You entered: 12\n"
     ]
    }
   ],
   "source": [
    "class CustomError(Exception):\n",
    "    def __init__(self, message):\n",
    "        self.message = message\n",
    "        super().__init__(self.message)\n",
    "\n",
    "def process_input(value):\n",
    "    if value < 0:\n",
    "        raise CustomError(\"Input value must be non-negative\")\n",
    "\n",
    "try:\n",
    "    num = int(input(\"Enter a number: \"))\n",
    "    process_input(num)\n",
    "except CustomError as ce:\n",
    "    print(f\"Custom Error: {ce}\")\n",
    "except ValueError:\n",
    "    print(\"Invalid input. Please enter a valid number.\")\n",
    "else:\n",
    "    print(f\"You entered: {num}\")\n"
   ]
  },
  {
   "cell_type": "markdown",
   "id": "4c6b89fe",
   "metadata": {},
   "source": [
    "4.Python provides a variety of built-in exceptions that cover a wide range of potential errors that can occur during program execution. Here are some common built-in exceptions in Python:\n",
    "\n",
    "SyntaxError: Raised when there is a syntax error in the code.\n",
    "\n",
    "IndentationError: Raised when there is an issue with the code's indentation.\n",
    "\n",
    "NameError: Raised when a local or global name is not found.\n",
    "\n",
    "TypeError: Raised when an operation or function is applied to an object of inappropriate type.\n",
    "\n",
    "ValueError: Raised when a function receives an argument of the correct type but with an inappropriate value.\n",
    "\n",
    "KeyError: Raised when a dictionary key is not found.\n",
    "\n",
    "IndexError: Raised when an index for a sequence (e.g., list, string) is out of range.\n",
    "\n",
    "FileNotFoundError: Raised when a file is not found.\n",
    "\n",
    "ZeroDivisionError: Raised when division or modulo operation is performed with a divisor of zero.\n",
    "\n",
    "AttributeError: Raised when an attribute reference or assignment fails.\n",
    "\n",
    "ImportError: Raised when an import statement cannot find the module or name.\n",
    "\n",
    "RuntimeError: A generic exception that can be raised by the user.\n",
    "\n",
    "AssertionError: Raised when an assert statement fails.\n",
    "\n",
    "NotImplementedError: Raised when an abstract method that needs to be implemented in a subclass is not.\n",
    "\n",
    "OverflowError: Raised when an arithmetic operation exceeds the limits of the numeric type.\n",
    "\n",
    "MemoryError: Raised when the Python interpreter runs out of memory.\n",
    "\n",
    "RecursionError: Raised when the maximum recursion depth is exceeded.\n",
    "\n",
    "EOFError: Raised when the input() function reaches the end of file without receiving input.\n",
    "\n",
    "UnicodeError: Base class for encoding and decoding errors.\n",
    "\n",
    "These are just a few examples of the built-in exceptions provided by Python. Understanding these exception types helps you write more robust and error-handling-friendly code.\n"
   ]
  },
  {
   "cell_type": "markdown",
   "id": "939114f7",
   "metadata": {},
   "source": [
    "5.Logging in Python refers to the practice of recording information, messages, warnings, errors, and other relevant details about the execution of a program. The Python standard library includes a built-in module called logging that provides a flexible and configurable framework for generating log messages.\n",
    "\n",
    "Logging is important in software development for several reasons:\n",
    "\n",
    "Debugging and Troubleshooting: Logging allows developers to capture the state of a program at different points during execution. When errors or unexpected behavior occur, logs can provide insights into what went wrong, making debugging and troubleshooting easier.\n",
    "\n",
    "Monitoring and Auditing: In production environments, logging is crucial for monitoring the health and performance of applications. Logs can provide valuable information about the system's behavior, usage patterns, and potential issues that need attention.\n",
    "\n",
    "Security: Detailed logs can help identify security vulnerabilities or unauthorized access attempts. Monitoring logs can aid in detecting and responding to security breaches.\n",
    "\n",
    "Documentation: Logs serve as a form of documentation that records how a program behaves over time. This documentation is valuable for maintaining and updating software.\n",
    "\n",
    "Performance Optimization: By analyzing logs, developers can identify performance bottlenecks and optimize resource usage to improve the overall efficiency of the application.\n",
    "\n",
    "Tracking User Activity: In applications that interact with users, logging can help track user activities, which can be useful for understanding user behavior and preferences.\n",
    "\n",
    "Reproducibility: Detailed logs can help recreate scenarios that led to certain outcomes. This is especially useful for replicating issues reported by users.\n",
    "\n",
    "Compliance and Regulation: Many industries have compliance requirements that mandate the logging of specific events or activities. Proper logging helps organizations meet these requirements.\n",
    "\n",
    "The Python logging module provides different log levels (DEBUG, INFO, WARNING, ERROR, CRITICAL) to categorize the severity of log messages. It supports customizable log formatting, different output destinations (such as files, console, and network sockets), and even the ability to route logs to external logging services.\n",
    "\n"
   ]
  },
  {
   "cell_type": "markdown",
   "id": "d75547bc",
   "metadata": {},
   "source": [
    "6.Log levels in Python logging are used to categorize and prioritize log messages based on their severity. Each log level corresponds to a specific level of importance, allowing developers to filter and manage the generated log messages according to their needs. Python's logging module defines several standard log levels:\n",
    "\n",
    "DEBUG: Used for detailed debugging information. Typically, this level is used when you need to trace the flow of your program and diagnose issues."
   ]
  },
  {
   "cell_type": "code",
   "execution_count": null,
   "id": "cb851291",
   "metadata": {},
   "outputs": [],
   "source": [
    "import logging\n",
    "\n",
    "logging.basicConfig(level=logging.DEBUG)\n",
    "logging.debug(\"This is a debug message.\")\n"
   ]
  },
  {
   "cell_type": "markdown",
   "id": "1392c609",
   "metadata": {},
   "source": [
    "INFO: Used to provide informational messages about the program's progress. It's suitable for general information that can help understand how the program is running."
   ]
  },
  {
   "cell_type": "code",
   "execution_count": null,
   "id": "5f51314a",
   "metadata": {},
   "outputs": [],
   "source": [
    "import logging\n",
    "\n",
    "logging.basicConfig(level=logging.INFO)\n",
    "logging.info(\"This is an informational message.\")\n"
   ]
  },
  {
   "cell_type": "markdown",
   "id": "9e784ba3",
   "metadata": {},
   "source": [
    "WARNING: Used to indicate a potential problem that doesn't necessarily prevent the program from continuing. It's often used to highlight issues that might need attention."
   ]
  },
  {
   "cell_type": "code",
   "execution_count": null,
   "id": "d96a51e3",
   "metadata": {},
   "outputs": [],
   "source": [
    "import logging\n",
    "\n",
    "logging.basicConfig(level=logging.WARNING)\n",
    "logging.warning(\"This is a warning message.\")\n"
   ]
  },
  {
   "cell_type": "markdown",
   "id": "0bf0c2a6",
   "metadata": {},
   "source": [
    "ERROR: Used to indicate an error that caused the program to fail to perform a specific operation. It's more severe than a warning and often requires attention."
   ]
  },
  {
   "cell_type": "code",
   "execution_count": null,
   "id": "a5826f9f",
   "metadata": {},
   "outputs": [],
   "source": [
    "import logging\n",
    "\n",
    "logging.basicConfig(level=logging.ERROR)\n",
    "logging.error(\"This is an error message.\")\n"
   ]
  },
  {
   "cell_type": "markdown",
   "id": "8344a200",
   "metadata": {},
   "source": [
    "CRITICAL: Used to indicate a critical error that might cause the program to crash or behave unexpectedly. It's the highest level of severity."
   ]
  },
  {
   "cell_type": "code",
   "execution_count": null,
   "id": "26c54cc2",
   "metadata": {},
   "outputs": [],
   "source": [
    "import logging\n",
    "\n",
    "logging.basicConfig(level=logging.CRITICAL)\n",
    "logging.critical(\"This is a critical message.\")\n"
   ]
  },
  {
   "cell_type": "markdown",
   "id": "200e2a49",
   "metadata": {},
   "source": [
    "7.Log formatters in Python logging are used to control the layout and structure of log messages. They allow you to customize how the log information is presented in the output, including elements like timestamp, log level, message, and more. Python's logging module provides a way to define and apply various log formatters to achieve the desired formatting of log messages.\n",
    "\n",
    "Create a Formatter Instance:\n",
    "Create an instance of the logging.Formatter class and specify the desired log message format using special placeholders, which will be replaced with actual values during logging.\n",
    "\n",
    "Configure a Handler:\n",
    "Attach the formatter to a logging handler (such as a StreamHandler, FileHandler, etc.) using the handler's setFormatter() method.\n",
    "\n",
    "Attach the Handler to the Logger:\n",
    "Attach the handler to the logger using the logger's addHandler() method.\n"
   ]
  },
  {
   "cell_type": "code",
   "execution_count": null,
   "id": "47312167",
   "metadata": {},
   "outputs": [],
   "source": [
    "import logging\n",
    "\n",
    "# Create a formatter instance with a custom log message format\n",
    "formatter = logging.Formatter('%(asctime)s - %(levelname)s - %(message)s')\n",
    "\n",
    "# Create a handler and set the formatter\n",
    "stream_handler = logging.StreamHandler()\n",
    "stream_handler.setFormatter(formatter)\n",
    "\n",
    "# Create a logger, set the logging level, and attach the handler\n",
    "logger = logging.getLogger('my_logger')\n",
    "logger.setLevel(logging.DEBUG)\n",
    "logger.addHandler(stream_handler)\n",
    "\n",
    "# Log some messages\n",
    "logger.debug(\"This is a debug message.\")\n",
    "logger.info(\"This is an informational message.\")\n",
    "logger.warning(\"This is a warning message.\")\n",
    "logger.error(\"This is an error message.\")\n",
    "logger.critical(\"This is a critical message.\")\n"
   ]
  },
  {
   "cell_type": "markdown",
   "id": "6be18c16",
   "metadata": {},
   "source": [
    "8.Setting up logging to capture log messages from multiple modules or classes in a Python application involves configuring a single logging system that can be accessed by all modules or classes. This ensures that the log messages are consistent and organized across different parts of the application\n",
    "\n",
    "Configure the Root Logger:\n",
    "In your main script or application entry point, configure the root logger using the logging.basicConfig() function or by creating your custom logger with a suitable logging configuration.\n",
    "\n",
    "#import logging\n",
    "\n",
    "#logging.basicConfig(level=logging.DEBUG, format='%(asctime)s - %(name)s - %(levelname)s - %(message)s')\n",
    "\n",
    "Import the Logging Module in Other Modules:\n",
    "In all the modules or classes where you want to use logging, import the logging module.\n",
    "\n",
    "Get a Logger Instance:\n",
    "In each module or class, get an instance of the logger using the logging.getLogger(__name__) method. The __name__ attribute ensures that the logger's name is specific to the module or class it's used in.\n",
    "\n",
    "\n",
    "import logging\n",
    "\n",
    "logger = logging.getLogger(__name__)\n",
    "\n",
    "Use the Logger to Log Messages:\n",
    "In each module or class, use the logger instance to log messages at different log levels. The messages will be captured by the root logger configured in the main script."
   ]
  },
  {
   "cell_type": "markdown",
   "id": "48783928",
   "metadata": {},
   "source": [
    "9.Both logging and print statements in Python are used to display information during program execution, but they serve different purposes and have different levels of usefulness, especially in real-world applications.\n",
    "\n",
    "Differences between Logging and Print Statements:\n",
    "\n",
    "Output Destination:\n",
    "\n",
    "Logging: Log messages can be directed to various output destinations, such as the console, files, network sockets, and more. This allows for more flexibility in where the log information is stored and how it's managed.\n",
    "Print: Print statements typically output to the console (standard output) by default. Redirecting the output requires more effort and may not be as versatile as logging.\n",
    "Level of Detail:\n",
    "\n",
    "Logging: Logging provides different log levels (DEBUG, INFO, WARNING, ERROR, CRITICAL) to categorize messages based on their importance. This allows you to control the level of detail displayed, which is especially useful for debugging and monitoring.\n",
    "Print: Print statements do not have built-in levels of detail. All messages are treated equally.\n",
    "Message Formatting:\n",
    "\n",
    "Logging: Logging allows you to format log messages with various details like timestamps, log levels, and more. This provides a consistent way to structure and organize log information.\n",
    "Print: Print statements do not offer built-in formatting capabilities. You need to manually format messages if you want them to include specific details.\n",
    "Ease of Disabling:\n",
    "\n",
    "Logging: Logging can be easily disabled or adjusted by changing the logging level configuration. This is useful for suppressing less important messages in production environments.\n",
    "Print: Print statements need to be removed or commented out manually to disable them, which can be error-prone and time-consuming.\n",
    "When to Use Logging Over Print Statements:\n",
    "\n",
    "In a real-world application, it's generally recommended to use logging over print statements for the following reasons:\n",
    "\n",
    "Structured Information: Logging allows you to structure log messages with details like timestamps, log levels, module names, and more. This makes the log information more informative and organized.\n",
    "\n",
    "Severity Levels: Logging provides different log levels, which helps prioritize and categorize messages. This is crucial for debugging and monitoring applications, as you can focus on relevant information.\n",
    "\n",
    "Flexibility: Logging allows you to direct log messages to various output destinations and configure how log information is captured and stored.\n",
    "\n",
    "Production Environment: In production, you can control the logging level to minimize unnecessary output. Print statements, on the other hand, can clutter the output and are harder to manage.\n",
    "\n",
    "Debugging and Monitoring: Logging is crucial for diagnosing issues and monitoring application behavior in various environments.\n",
    "\n",
    "While print statements can be useful for quick debugging or small scripts, logging provides a more robust and organized approach to capturing and managing information during program execution, especially in larger and more complex applications.\n",
    "\n"
   ]
  },
  {
   "cell_type": "code",
   "execution_count": 4,
   "id": "39a8b539",
   "metadata": {},
   "outputs": [],
   "source": [
    "#10\n",
    "import logging\n",
    "\n",
    "# Configure the logging\n",
    "logging.basicConfig(\n",
    "    filename='app.log',\n",
    "    level=logging.INFO,\n",
    "    format='%(asctime)s - %(levelname)s - %(message)s'\n",
    ")\n",
    "\n",
    "# Log the message\n",
    "logging.info(\"Hello, World!\")\n"
   ]
  },
  {
   "cell_type": "code",
   "execution_count": 5,
   "id": "c0b773b7",
   "metadata": {},
   "outputs": [],
   "source": [
    "#11\n",
    "import logging\n",
    "\n",
    "# Configure the logging\n",
    "logging.basicConfig(\n",
    "    level=logging.ERROR,\n",
    "    format='%(asctime)s - %(levelname)s - %(message)s',\n",
    "    handlers=[\n",
    "        logging.FileHandler('errors.log'),\n",
    "        logging.StreamHandler()\n",
    "    ]\n",
    ")\n",
    "\n",
    "try:\n",
    "    # Code that may raise an exception\n",
    "    result = 10 / 0\n",
    "except Exception as e:\n",
    "    # Log the exception\n",
    "    logging.error(f\"Exception: {type(e).__name__} - {e}\")\n"
   ]
  },
  {
   "cell_type": "code",
   "execution_count": null,
   "id": "aa8c086a",
   "metadata": {},
   "outputs": [],
   "source": []
  },
  {
   "cell_type": "code",
   "execution_count": null,
   "id": "1d71e1fc",
   "metadata": {},
   "outputs": [],
   "source": []
  }
 ],
 "metadata": {
  "kernelspec": {
   "display_name": "Python 3 (ipykernel)",
   "language": "python",
   "name": "python3"
  },
  "language_info": {
   "codemirror_mode": {
    "name": "ipython",
    "version": 3
   },
   "file_extension": ".py",
   "mimetype": "text/x-python",
   "name": "python",
   "nbconvert_exporter": "python",
   "pygments_lexer": "ipython3",
   "version": "3.10.9"
  }
 },
 "nbformat": 4,
 "nbformat_minor": 5
}
